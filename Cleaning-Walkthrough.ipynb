{
 "cells": [
  {
   "cell_type": "markdown",
   "metadata": {},
   "source": [
    "# Cleaning Data Walk Through"
   ]
  },
  {
   "cell_type": "markdown",
   "metadata": {},
   "source": [
    "This walkthrough is an example of cleaning data, in this case to be used for modelling. Here, the training data for a model includes two columns of information that the test data does not, so these need to be added on from another source.\n",
    "\n",
    "To be able to run this exact code, you will need your file structure set up with a _data_ folder inside your working directory. _analysis_ and _output_ folders are also recommended to keep your files tidy, but you can follow this walkthrough without. The data you will need can be found on the [Github repository for this Hackathon](https://github.com/MangoTheCat/rss-2018-hackathon). \n"
   ]
  },
  {
   "cell_type": "markdown",
   "metadata": {},
   "source": [
    "To begin with we will import the modules need during this walkthrough. You may need to install first.\n"
   ]
  },
  {
   "cell_type": "code",
   "execution_count": 3,
   "metadata": {},
   "outputs": [],
   "source": [
    "import pandas as pd"
   ]
  },
  {
   "cell_type": "markdown",
   "metadata": {},
   "source": [
    "## Investigating the Data"
   ]
  },
  {
   "cell_type": "markdown",
   "metadata": {},
   "source": [
    "The data we are looking at is election data from the 2015 and 2017 general elections, where a model will be trained on 2015 results and tested on 2017 results. The data sets available to us are `ge_2015_2017_prediction_data.csv` and `HoC-GE2017-constituency-results.csv`, both of which you should **download** from the [Github repository](https://github.com/MangoTheCat/rss-2018-hackathon) into your _data_ folder. We first upload these files as dataframes."
   ]
  },
  {
   "cell_type": "code",
   "execution_count": 9,
   "metadata": {},
   "outputs": [],
   "source": [
    "pred_data = pd.read_csv(\"data/ge_2015_2017_prediction_data.csv\")\n",
    "actual_data = pd.read_csv(\"data/HoC-GE2017-constituency-results.csv\")"
   ]
  },
  {
   "cell_type": "markdown",
   "metadata": {},
   "source": [
    "The first file has everything that is needed for the model, except the name of the winning party and the percentage of the vote secured by that party. These can be found from the second file, and so we need to find a way of combining these two files.\n"
   ]
  },
  {
   "cell_type": "markdown",
   "metadata": {},
   "source": [
    "Let's look at the column names to see if there are any common columns.\n"
   ]
  },
  {
   "cell_type": "code",
   "execution_count": 11,
   "metadata": {},
   "outputs": [
    {
     "data": {
      "text/plain": [
       "Index(['Press Association ID Number', 'Constituency Name', 'Region', 'geo',\n",
       "       'Electorate', 'Votes', 'party', 'votes_last', 'pc_last', 'win_last',\n",
       "       'polls_now', 'swing_now', 'swing_forecast_pc', 'swing_forecast_win',\n",
       "       'con', 'grn', 'lab', 'ld', 'pc', 'snp', 'ukip', 'Region_East',\n",
       "       'Region_East Midlands', 'Region_London', 'Region_North East',\n",
       "       'Region_North West', 'Region_Northern Ireland', 'Region_Scotland',\n",
       "       'Region_South East', 'Region_South West', 'Region_Wales',\n",
       "       'Region_West Midlands', 'Region_Yorkshire and The Humber',\n",
       "       'won_here_last'],\n",
       "      dtype='object')"
      ]
     },
     "execution_count": 11,
     "metadata": {},
     "output_type": "execute_result"
    }
   ],
   "source": [
    "pred_data.columns"
   ]
  },
  {
   "cell_type": "code",
   "execution_count": 14,
   "metadata": {},
   "outputs": [
    {
     "data": {
      "text/plain": [
       "Index(['ons_id', 'ons_region_id', 'constituency_name', 'county_name',\n",
       "       'region_name', 'country_name', 'constituency_type', 'declaration_time',\n",
       "       'result', 'first_party', 'second_party', 'electorate', 'valid_votes',\n",
       "       'invalid_votes', 'majority', 'con', 'lab', 'ld', 'ukip', 'green', 'snp',\n",
       "       'pc', 'dup', 'sf', 'sdlp', 'uup', 'alliance', 'other', 'other_winner'],\n",
       "      dtype='object')"
      ]
     },
     "execution_count": 14,
     "metadata": {},
     "output_type": "execute_result"
    }
   ],
   "source": [
    "actual_data.columns"
   ]
  },
  {
   "cell_type": "markdown",
   "metadata": {},
   "source": [
    "From looking at these column names, we can see that both include a constituency name and some sort of ID. First we look at the constituency names to see if they match."
   ]
  },
  {
   "cell_type": "code",
   "execution_count": 23,
   "metadata": {},
   "outputs": [
    {
     "data": {
      "text/plain": [
       "264"
      ]
     },
     "execution_count": 23,
     "metadata": {},
     "output_type": "execute_result"
    }
   ],
   "source": [
    "len(set(pred_data['Constituency Name']) - set(actual_data['constituency_name']))"
   ]
  },
  {
   "cell_type": "markdown",
   "metadata": {},
   "source": [
    "There are a **lot** of mismatches in the names, and fixing all the strings to match will be a lot of work, so let's look at the ID fields instead."
   ]
  },
  {
   "cell_type": "code",
   "execution_count": 29,
   "metadata": {},
   "outputs": [
    {
     "data": {
      "text/plain": [
       "array([1., 2., 3., 4., 5., 6.])"
      ]
     },
     "execution_count": 29,
     "metadata": {},
     "output_type": "execute_result"
    }
   ],
   "source": [
    "pred_data['Press Association ID Number'].unique()[:6]"
   ]
  },
  {
   "cell_type": "code",
   "execution_count": 30,
   "metadata": {},
   "outputs": [
    {
     "data": {
      "text/plain": [
       "array(['W07000049', 'W07000058', 'S14000001', 'S14000002', 'S14000003',\n",
       "       'E14000530'], dtype=object)"
      ]
     },
     "execution_count": 30,
     "metadata": {},
     "output_type": "execute_result"
    }
   ],
   "source": [
    "actual_data['ons_id'].unique()[:6]"
   ]
  },
  {
   "cell_type": "code",
   "execution_count": 32,
   "metadata": {},
   "outputs": [
    {
     "data": {
      "text/plain": [
       "650"
      ]
     },
     "execution_count": 32,
     "metadata": {},
     "output_type": "execute_result"
    }
   ],
   "source": [
    "len(pred_data['Press Association ID Number'].unique())"
   ]
  },
  {
   "cell_type": "code",
   "execution_count": 34,
   "metadata": {},
   "outputs": [
    {
     "data": {
      "text/plain": [
       "650"
      ]
     },
     "execution_count": 34,
     "metadata": {},
     "output_type": "execute_result"
    }
   ],
   "source": [
    "len(actual_data['ons_id'].unique())"
   ]
  },
  {
   "cell_type": "markdown",
   "metadata": {},
   "source": [
    "We can see that although the two types of IDs do not match, there are the same number of unique IDs of both types, meaning that it should be possible to match them. Luckily, the `ge_2015_results.csv` file available on the [Github repository](https://github.com/MangoTheCat/rss-2018-hackathon), contains both types of ID and so we can use it for matching. You should **download** this file into your _data_ folder before continuing. Now we will upload this file, and look at the first few column names.\n"
   ]
  },
  {
   "cell_type": "markdown",
   "metadata": {},
   "source": [
    "## Matching IDs"
   ]
  },
  {
   "cell_type": "code",
   "execution_count": 42,
   "metadata": {},
   "outputs": [
    {
     "data": {
      "text/plain": [
       "Index(['Press Association ID Number', 'Constituency ID', 'Constituency Name',\n",
       "       'Constituency Type', 'County', 'Region ID', 'Region', 'Country',\n",
       "       'Election Year', 'Electorate'],\n",
       "      dtype='object')"
      ]
     },
     "execution_count": 42,
     "metadata": {},
     "output_type": "execute_result"
    }
   ],
   "source": [
    "ID_match = pd.read_csv(\"data/ge_2015_results.csv\")\n",
    "ID_match.columns[:10]"
   ]
  },
  {
   "cell_type": "markdown",
   "metadata": {},
   "source": [
    "We assume the `Press.Association.ID.Number` columns match, and if we look at `Constituency.ID` we can see it matches `ons_id`."
   ]
  },
  {
   "cell_type": "code",
   "execution_count": 44,
   "metadata": {},
   "outputs": [
    {
     "data": {
      "text/plain": [
       "0    W07000049\n",
       "1    W07000058\n",
       "2    S14000001\n",
       "3    S14000002\n",
       "4    S14000058\n",
       "Name: Constituency ID, dtype: object"
      ]
     },
     "execution_count": 44,
     "metadata": {},
     "output_type": "execute_result"
    }
   ],
   "source": [
    "ID_match['Constituency ID'][:5]"
   ]
  },
  {
   "cell_type": "code",
   "execution_count": 47,
   "metadata": {},
   "outputs": [
    {
     "data": {
      "text/plain": [
       "True"
      ]
     },
     "execution_count": 47,
     "metadata": {},
     "output_type": "execute_result"
    }
   ],
   "source": [
    "set(actual_data['ons_id']) == set(ID_match['Constituency ID'])"
   ]
  },
  {
   "cell_type": "markdown",
   "metadata": {},
   "source": [
    "As we only need these two ID columns to give us a reference table, we delete all other columns and rename `Constituency.ID` to `ons_id`, so it can be merged later. We will then check the table is as expected."
   ]
  },
  {
   "cell_type": "code",
   "execution_count": 65,
   "metadata": {},
   "outputs": [
    {
     "data": {
      "text/html": [
       "<div>\n",
       "<style scoped>\n",
       "    .dataframe tbody tr th:only-of-type {\n",
       "        vertical-align: middle;\n",
       "    }\n",
       "\n",
       "    .dataframe tbody tr th {\n",
       "        vertical-align: top;\n",
       "    }\n",
       "\n",
       "    .dataframe thead th {\n",
       "        text-align: right;\n",
       "    }\n",
       "</style>\n",
       "<table border=\"1\" class=\"dataframe\">\n",
       "  <thead>\n",
       "    <tr style=\"text-align: right;\">\n",
       "      <th></th>\n",
       "      <th>Press Association ID Number</th>\n",
       "      <th>ons_id</th>\n",
       "    </tr>\n",
       "  </thead>\n",
       "  <tbody>\n",
       "    <tr>\n",
       "      <th>0</th>\n",
       "      <td>1.0</td>\n",
       "      <td>W07000049</td>\n",
       "    </tr>\n",
       "    <tr>\n",
       "      <th>1</th>\n",
       "      <td>2.0</td>\n",
       "      <td>W07000058</td>\n",
       "    </tr>\n",
       "    <tr>\n",
       "      <th>2</th>\n",
       "      <td>3.0</td>\n",
       "      <td>S14000001</td>\n",
       "    </tr>\n",
       "    <tr>\n",
       "      <th>3</th>\n",
       "      <td>4.0</td>\n",
       "      <td>S14000002</td>\n",
       "    </tr>\n",
       "    <tr>\n",
       "      <th>4</th>\n",
       "      <td>5.0</td>\n",
       "      <td>S14000058</td>\n",
       "    </tr>\n",
       "  </tbody>\n",
       "</table>\n",
       "</div>"
      ],
      "text/plain": [
       "   Press Association ID Number     ons_id\n",
       "0                          1.0  W07000049\n",
       "1                          2.0  W07000058\n",
       "2                          3.0  S14000001\n",
       "3                          4.0  S14000002\n",
       "4                          5.0  S14000058"
      ]
     },
     "execution_count": 65,
     "metadata": {},
     "output_type": "execute_result"
    }
   ],
   "source": [
    "ID_match = ID_match.iloc[:,0:2]\n",
    "ID_match = ID_match.rename(columns = {\"Constituency ID\": \"ons_id\"})\n",
    "ID_match.head()"
   ]
  },
  {
   "cell_type": "markdown",
   "metadata": {},
   "source": [
    "Now that we have a reference table linking the two ID numbers together, we can merge this with the `actual_data` dataframe by the `ons_id` column, so that the `actual_data` contains `Press.Association.ID.Number`. We can then check that this extra column has indeed been added correctly by looking at column names and checking that every constituency now has a `Press.Association.ID.Number`.\n"
   ]
  },
  {
   "cell_type": "code",
   "execution_count": 69,
   "metadata": {},
   "outputs": [
    {
     "data": {
      "text/plain": [
       "Index(['ons_id', 'ons_region_id', 'constituency_name', 'county_name',\n",
       "       'region_name', 'country_name', 'constituency_type', 'declaration_time',\n",
       "       'result', 'first_party', 'second_party', 'electorate', 'valid_votes',\n",
       "       'invalid_votes', 'majority', 'con', 'lab', 'ld', 'ukip', 'green', 'snp',\n",
       "       'pc', 'dup', 'sf', 'sdlp', 'uup', 'alliance', 'other', 'other_winner',\n",
       "       'Press Association ID Number'],\n",
       "      dtype='object')"
      ]
     },
     "execution_count": 69,
     "metadata": {},
     "output_type": "execute_result"
    }
   ],
   "source": [
    "actual_data = pd.merge(actual_data, ID_match)\n",
    "actual_data.columns"
   ]
  },
  {
   "cell_type": "markdown",
   "metadata": {},
   "source": [
    "## Selecting Useful Data"
   ]
  },
  {
   "cell_type": "markdown",
   "metadata": {},
   "source": [
    "We are now at the point where we have a matching ID column in our `pred_data` and `actual_data`, but as we do not need all the columns from `actual_data`, we are going to pick out and calculate what we need before merging. The data missing from the `pred_data` is the winning party and the percentage of valid votes that went to that party. The first is already present in the `actual_data` as `first_party`, but the second will have to be calculated using `valid_votes` and `majority`. This means we can select only these columns into a dataframe and calculate the percentage, then drop the columns used only for percentage calculations. We will also name the columns to match the column names used in the model."
   ]
  },
  {
   "cell_type": "code",
   "execution_count": 86,
   "metadata": {},
   "outputs": [
    {
     "name": "stdout",
     "output_type": "stream",
     "text": [
      "Index(['Press Association ID Number', 'actual_win_now', 'valid_votes',\n",
      "       'majority'],\n",
      "      dtype='object')\n"
     ]
    }
   ],
   "source": [
    "actual_cols = ['Press Association ID Number', 'first_party', 'valid_votes', 'majority']\n",
    "need_actual_data = actual_data[actual_cols]\n",
    "\n",
    "need_actual_data = need_actual_data.rename(columns = {\"first_party\": \"actual_win_now\"})\n",
    "print(need_actual_data.columns)\n",
    "need_actual_data['actual_pc_now'] = need_actual_data['majority'] / need_actual_data['valid_votes']\n",
    "\n",
    "selected_cols = ['Press Association ID Number', 'actual_win_now', 'actual_pc_now']\n",
    "need_actual_data = need_actual_data[selected_cols]"
   ]
  },
  {
   "cell_type": "markdown",
   "metadata": {},
   "source": [
    "Before continuing, let's check that this dataframe is exactly as we expect.\n"
   ]
  },
  {
   "cell_type": "code",
   "execution_count": 89,
   "metadata": {},
   "outputs": [
    {
     "data": {
      "text/plain": [
       "(650, 3)"
      ]
     },
     "execution_count": 89,
     "metadata": {},
     "output_type": "execute_result"
    }
   ],
   "source": [
    "need_actual_data.shape"
   ]
  },
  {
   "cell_type": "code",
   "execution_count": 90,
   "metadata": {},
   "outputs": [
    {
     "data": {
      "text/html": [
       "<div>\n",
       "<style scoped>\n",
       "    .dataframe tbody tr th:only-of-type {\n",
       "        vertical-align: middle;\n",
       "    }\n",
       "\n",
       "    .dataframe tbody tr th {\n",
       "        vertical-align: top;\n",
       "    }\n",
       "\n",
       "    .dataframe thead th {\n",
       "        text-align: right;\n",
       "    }\n",
       "</style>\n",
       "<table border=\"1\" class=\"dataframe\">\n",
       "  <thead>\n",
       "    <tr style=\"text-align: right;\">\n",
       "      <th></th>\n",
       "      <th>Press Association ID Number</th>\n",
       "      <th>actual_win_now</th>\n",
       "      <th>actual_pc_now</th>\n",
       "    </tr>\n",
       "  </thead>\n",
       "  <tbody>\n",
       "    <tr>\n",
       "      <th>0</th>\n",
       "      <td>1.0</td>\n",
       "      <td>Lab</td>\n",
       "      <td>0.503817</td>\n",
       "    </tr>\n",
       "    <tr>\n",
       "      <th>1</th>\n",
       "      <td>2.0</td>\n",
       "      <td>Con</td>\n",
       "      <td>0.019751</td>\n",
       "    </tr>\n",
       "    <tr>\n",
       "      <th>2</th>\n",
       "      <td>3.0</td>\n",
       "      <td>SNP</td>\n",
       "      <td>0.112604</td>\n",
       "    </tr>\n",
       "    <tr>\n",
       "      <th>3</th>\n",
       "      <td>4.0</td>\n",
       "      <td>Con</td>\n",
       "      <td>0.106803</td>\n",
       "    </tr>\n",
       "    <tr>\n",
       "      <th>4</th>\n",
       "      <td>6.0</td>\n",
       "      <td>SNP</td>\n",
       "      <td>0.005131</td>\n",
       "    </tr>\n",
       "  </tbody>\n",
       "</table>\n",
       "</div>"
      ],
      "text/plain": [
       "   Press Association ID Number actual_win_now  actual_pc_now\n",
       "0                          1.0            Lab       0.503817\n",
       "1                          2.0            Con       0.019751\n",
       "2                          3.0            SNP       0.112604\n",
       "3                          4.0            Con       0.106803\n",
       "4                          6.0            SNP       0.005131"
      ]
     },
     "execution_count": 90,
     "metadata": {},
     "output_type": "execute_result"
    }
   ],
   "source": [
    "need_actual_data.head()"
   ]
  },
  {
   "cell_type": "markdown",
   "metadata": {},
   "source": [
    "## Merging the DataFrames"
   ]
  },
  {
   "cell_type": "markdown",
   "metadata": {},
   "source": [
    "Now that we have the extra data we need, and an ID column that matches to `pred_data`, we can merge the two to give our full data set.\n"
   ]
  },
  {
   "cell_type": "code",
   "execution_count": 94,
   "metadata": {},
   "outputs": [
    {
     "name": "stdout",
     "output_type": "stream",
     "text": [
      "(4550, 36)\n"
     ]
    },
    {
     "data": {
      "text/plain": [
       "False"
      ]
     },
     "execution_count": 94,
     "metadata": {},
     "output_type": "execute_result"
    }
   ],
   "source": [
    "full_data = pd.merge(pred_data, need_actual_data)\n",
    "\n",
    "# Check the dimensions\n",
    "print(full_data.shape)\n",
    "\n",
    "# Check there are no missing values (should be False!)\n",
    "full_data.isnull().values.any()"
   ]
  },
  {
   "cell_type": "markdown",
   "metadata": {},
   "source": [
    "## Saving the File"
   ]
  },
  {
   "cell_type": "markdown",
   "metadata": {},
   "source": [
    "We can see that the merge worked - we have two extra columns, the same number of rows, and no NA values, showing us that we have lost no data during this process. As a final step we will save this dataframe as a new csv file."
   ]
  },
  {
   "cell_type": "code",
   "execution_count": 97,
   "metadata": {},
   "outputs": [],
   "source": [
    "full_data.to_csv(\"data/ge_2017_results.csv\")"
   ]
  }
 ],
 "metadata": {
  "kernelspec": {
   "display_name": "Python 3",
   "language": "python",
   "name": "python3"
  },
  "language_info": {
   "codemirror_mode": {
    "name": "ipython",
    "version": 3
   },
   "file_extension": ".py",
   "mimetype": "text/x-python",
   "name": "python",
   "nbconvert_exporter": "python",
   "pygments_lexer": "ipython3",
   "version": "3.6.5"
  }
 },
 "nbformat": 4,
 "nbformat_minor": 2
}
